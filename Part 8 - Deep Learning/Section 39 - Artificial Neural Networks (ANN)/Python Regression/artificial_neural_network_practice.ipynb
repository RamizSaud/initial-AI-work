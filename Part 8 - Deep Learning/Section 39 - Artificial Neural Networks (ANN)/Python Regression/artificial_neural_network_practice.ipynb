{
 "cells": [
  {
   "cell_type": "markdown",
   "metadata": {
    "colab_type": "text",
    "id": "3cbb7fRy-eyr"
   },
   "source": [
    "# Artificial Neural Network"
   ]
  },
  {
   "cell_type": "markdown",
   "metadata": {
    "colab_type": "text",
    "id": "8sNDnxE2-pwE"
   },
   "source": [
    "### Importing the libraries"
   ]
  },
  {
   "cell_type": "code",
   "execution_count": 4,
   "metadata": {},
   "outputs": [
    {
     "name": "stdout",
     "output_type": "stream",
     "text": [
      "Collecting xlrd\n",
      "  Downloading xlrd-2.0.1-py2.py3-none-any.whl (96 kB)\n",
      "Installing collected packages: xlrd\n",
      "Successfully installed xlrd-2.0.1\n"
     ]
    },
    {
     "name": "stderr",
     "output_type": "stream",
     "text": [
      "WARNING: You are using pip version 20.0.2; however, version 20.3.3 is available.\n",
      "You should consider upgrading via the 'c:\\users\\ramiz saud bajwa\\appdata\\local\\programs\\python\\python37\\python.exe -m pip install --upgrade pip' command.\n"
     ]
    }
   ],
   "source": [
    "!pip install xlrd"
   ]
  },
  {
   "cell_type": "code",
   "execution_count": 8,
   "metadata": {},
   "outputs": [
    {
     "name": "stdout",
     "output_type": "stream",
     "text": [
      "Collecting openpyxl\n",
      "  Downloading openpyxl-3.0.5-py2.py3-none-any.whl (242 kB)\n",
      "Collecting et-xmlfile\n",
      "  Downloading et_xmlfile-1.0.1.tar.gz (8.4 kB)\n",
      "Collecting jdcal\n",
      "  Downloading jdcal-1.4.1-py2.py3-none-any.whl (9.5 kB)\n",
      "Building wheels for collected packages: et-xmlfile\n",
      "  Building wheel for et-xmlfile (setup.py): started\n",
      "  Building wheel for et-xmlfile (setup.py): finished with status 'done'\n",
      "  Created wheel for et-xmlfile: filename=et_xmlfile-1.0.1-py3-none-any.whl size=8913 sha256=8b1f23c530ad94c7d903850a325e70b5364dfb0196c802646bea714295c3756b\n",
      "  Stored in directory: c:\\users\\ramiz saud bajwa\\appdata\\local\\pip\\cache\\wheels\\e2\\bd\\55\\048b4fd505716c4c298f42ee02dffd9496bb6d212b266c7f31\n",
      "Successfully built et-xmlfile\n",
      "Installing collected packages: et-xmlfile, jdcal, openpyxl\n",
      "Successfully installed et-xmlfile-1.0.1 jdcal-1.4.1 openpyxl-3.0.5\n"
     ]
    },
    {
     "name": "stderr",
     "output_type": "stream",
     "text": [
      "WARNING: You are using pip version 20.0.2; however, version 20.3.3 is available.\n",
      "You should consider upgrading via the 'c:\\users\\ramiz saud bajwa\\appdata\\local\\programs\\python\\python37\\python.exe -m pip install --upgrade pip' command.\n"
     ]
    }
   ],
   "source": [
    "!pip install openpyxl"
   ]
  },
  {
   "cell_type": "code",
   "execution_count": 5,
   "metadata": {
    "colab": {},
    "colab_type": "code",
    "id": "lxChR1Rk-umf"
   },
   "outputs": [],
   "source": [
    "import numpy as np\n",
    "import pandas as pd\n",
    "import tensorflow as tf"
   ]
  },
  {
   "cell_type": "code",
   "execution_count": 6,
   "metadata": {
    "colab": {
     "base_uri": "https://localhost:8080/",
     "height": 34
    },
    "colab_type": "code",
    "id": "uBTqR3nacj0e",
    "outputId": "4c0bd183-e424-429a-9fba-ceb841c06888"
   },
   "outputs": [
    {
     "data": {
      "text/plain": [
       "'2.4.0'"
      ]
     },
     "execution_count": 6,
     "metadata": {},
     "output_type": "execute_result"
    }
   ],
   "source": [
    "tf.__version__"
   ]
  },
  {
   "cell_type": "markdown",
   "metadata": {
    "colab_type": "text",
    "id": "AG3FQEch-yuA"
   },
   "source": [
    "## Part 1 - Data Preprocessing"
   ]
  },
  {
   "cell_type": "markdown",
   "metadata": {
    "colab_type": "text",
    "id": "-4zq8Mza_D9O"
   },
   "source": [
    "### Importing the dataset"
   ]
  },
  {
   "cell_type": "code",
   "execution_count": 9,
   "metadata": {
    "colab": {},
    "colab_type": "code",
    "id": "B9CV13Co_HHM"
   },
   "outputs": [],
   "source": [
    "dataset = pd.read_excel('Folds5x2_pp.xlsx',engine='openpyxl')\n",
    "X = dataset.iloc[:, :-1].values\n",
    "y = dataset.iloc[:, -1].values"
   ]
  },
  {
   "cell_type": "code",
   "execution_count": 11,
   "metadata": {},
   "outputs": [
    {
     "data": {
      "text/html": [
       "<div>\n",
       "<style scoped>\n",
       "    .dataframe tbody tr th:only-of-type {\n",
       "        vertical-align: middle;\n",
       "    }\n",
       "\n",
       "    .dataframe tbody tr th {\n",
       "        vertical-align: top;\n",
       "    }\n",
       "\n",
       "    .dataframe thead th {\n",
       "        text-align: right;\n",
       "    }\n",
       "</style>\n",
       "<table border=\"1\" class=\"dataframe\">\n",
       "  <thead>\n",
       "    <tr style=\"text-align: right;\">\n",
       "      <th></th>\n",
       "      <th>AT</th>\n",
       "      <th>V</th>\n",
       "      <th>AP</th>\n",
       "      <th>RH</th>\n",
       "      <th>PE</th>\n",
       "    </tr>\n",
       "  </thead>\n",
       "  <tbody>\n",
       "    <tr>\n",
       "      <th>0</th>\n",
       "      <td>14.96</td>\n",
       "      <td>41.76</td>\n",
       "      <td>1024.07</td>\n",
       "      <td>73.17</td>\n",
       "      <td>463.26</td>\n",
       "    </tr>\n",
       "    <tr>\n",
       "      <th>1</th>\n",
       "      <td>25.18</td>\n",
       "      <td>62.96</td>\n",
       "      <td>1020.04</td>\n",
       "      <td>59.08</td>\n",
       "      <td>444.37</td>\n",
       "    </tr>\n",
       "    <tr>\n",
       "      <th>2</th>\n",
       "      <td>5.11</td>\n",
       "      <td>39.40</td>\n",
       "      <td>1012.16</td>\n",
       "      <td>92.14</td>\n",
       "      <td>488.56</td>\n",
       "    </tr>\n",
       "    <tr>\n",
       "      <th>3</th>\n",
       "      <td>20.86</td>\n",
       "      <td>57.32</td>\n",
       "      <td>1010.24</td>\n",
       "      <td>76.64</td>\n",
       "      <td>446.48</td>\n",
       "    </tr>\n",
       "    <tr>\n",
       "      <th>4</th>\n",
       "      <td>10.82</td>\n",
       "      <td>37.50</td>\n",
       "      <td>1009.23</td>\n",
       "      <td>96.62</td>\n",
       "      <td>473.90</td>\n",
       "    </tr>\n",
       "    <tr>\n",
       "      <th>...</th>\n",
       "      <td>...</td>\n",
       "      <td>...</td>\n",
       "      <td>...</td>\n",
       "      <td>...</td>\n",
       "      <td>...</td>\n",
       "    </tr>\n",
       "    <tr>\n",
       "      <th>9563</th>\n",
       "      <td>16.65</td>\n",
       "      <td>49.69</td>\n",
       "      <td>1014.01</td>\n",
       "      <td>91.00</td>\n",
       "      <td>460.03</td>\n",
       "    </tr>\n",
       "    <tr>\n",
       "      <th>9564</th>\n",
       "      <td>13.19</td>\n",
       "      <td>39.18</td>\n",
       "      <td>1023.67</td>\n",
       "      <td>66.78</td>\n",
       "      <td>469.62</td>\n",
       "    </tr>\n",
       "    <tr>\n",
       "      <th>9565</th>\n",
       "      <td>31.32</td>\n",
       "      <td>74.33</td>\n",
       "      <td>1012.92</td>\n",
       "      <td>36.48</td>\n",
       "      <td>429.57</td>\n",
       "    </tr>\n",
       "    <tr>\n",
       "      <th>9566</th>\n",
       "      <td>24.48</td>\n",
       "      <td>69.45</td>\n",
       "      <td>1013.86</td>\n",
       "      <td>62.39</td>\n",
       "      <td>435.74</td>\n",
       "    </tr>\n",
       "    <tr>\n",
       "      <th>9567</th>\n",
       "      <td>21.60</td>\n",
       "      <td>62.52</td>\n",
       "      <td>1017.23</td>\n",
       "      <td>67.87</td>\n",
       "      <td>453.28</td>\n",
       "    </tr>\n",
       "  </tbody>\n",
       "</table>\n",
       "<p>9568 rows × 5 columns</p>\n",
       "</div>"
      ],
      "text/plain": [
       "         AT      V       AP     RH      PE\n",
       "0     14.96  41.76  1024.07  73.17  463.26\n",
       "1     25.18  62.96  1020.04  59.08  444.37\n",
       "2      5.11  39.40  1012.16  92.14  488.56\n",
       "3     20.86  57.32  1010.24  76.64  446.48\n",
       "4     10.82  37.50  1009.23  96.62  473.90\n",
       "...     ...    ...      ...    ...     ...\n",
       "9563  16.65  49.69  1014.01  91.00  460.03\n",
       "9564  13.19  39.18  1023.67  66.78  469.62\n",
       "9565  31.32  74.33  1012.92  36.48  429.57\n",
       "9566  24.48  69.45  1013.86  62.39  435.74\n",
       "9567  21.60  62.52  1017.23  67.87  453.28\n",
       "\n",
       "[9568 rows x 5 columns]"
      ]
     },
     "execution_count": 11,
     "metadata": {},
     "output_type": "execute_result"
    }
   ],
   "source": [
    "dataset"
   ]
  },
  {
   "cell_type": "markdown",
   "metadata": {
    "colab_type": "text",
    "id": "VC6omXel_Up0"
   },
   "source": [
    "### Splitting the dataset into the Training set and Test set"
   ]
  },
  {
   "cell_type": "code",
   "execution_count": 10,
   "metadata": {
    "colab": {},
    "colab_type": "code",
    "id": "L5edeb2r_agx"
   },
   "outputs": [],
   "source": [
    "from sklearn.model_selection import train_test_split\n",
    "X_train, X_test, y_train, y_test = train_test_split(X, y, test_size = 0.2, random_state = 0)"
   ]
  },
  {
   "cell_type": "markdown",
   "metadata": {
    "colab_type": "text",
    "id": "_mSLlAT9_eyI"
   },
   "source": [
    "## Part 2 - Building the ANN"
   ]
  },
  {
   "cell_type": "markdown",
   "metadata": {
    "colab_type": "text",
    "id": "CsBULd_f_wLY"
   },
   "source": [
    "### Initializing the ANN"
   ]
  },
  {
   "cell_type": "code",
   "execution_count": 18,
   "metadata": {
    "colab": {},
    "colab_type": "code",
    "id": "J6Hd97Ls__Nz"
   },
   "outputs": [],
   "source": [
    "ann = tf.keras.models.Sequential()"
   ]
  },
  {
   "cell_type": "markdown",
   "metadata": {
    "colab_type": "text",
    "id": "iitAFJS_ABUn"
   },
   "source": [
    "### Adding the input layer and the first hidden layer"
   ]
  },
  {
   "cell_type": "code",
   "execution_count": 19,
   "metadata": {
    "colab": {},
    "colab_type": "code",
    "id": "ksO_Vv40AHix"
   },
   "outputs": [],
   "source": [
    "ann.add(tf.keras.layers.Dense(units=6, activation='relu'))"
   ]
  },
  {
   "cell_type": "markdown",
   "metadata": {
    "colab_type": "text",
    "id": "-lb4kK_wAKbs"
   },
   "source": [
    "### Adding the second hidden layer"
   ]
  },
  {
   "cell_type": "code",
   "execution_count": 20,
   "metadata": {
    "colab": {},
    "colab_type": "code",
    "id": "c2357OqEAQOQ"
   },
   "outputs": [],
   "source": [
    "ann.add(tf.keras.layers.Dense(units=6, activation='relu'))"
   ]
  },
  {
   "cell_type": "markdown",
   "metadata": {
    "colab_type": "text",
    "id": "jwMOmKb3AdBY"
   },
   "source": [
    "### Adding the output layer"
   ]
  },
  {
   "cell_type": "code",
   "execution_count": 21,
   "metadata": {
    "colab": {},
    "colab_type": "code",
    "id": "YFATpzsUAkLL"
   },
   "outputs": [],
   "source": [
    "ann.add(tf.keras.layers.Dense(units=1))"
   ]
  },
  {
   "cell_type": "markdown",
   "metadata": {
    "colab_type": "text",
    "id": "fq7e4fF6A1yy"
   },
   "source": [
    "## Part 3 - Training the ANN"
   ]
  },
  {
   "cell_type": "markdown",
   "metadata": {
    "colab_type": "text",
    "id": "qDeylAs2An25"
   },
   "source": [
    "### Compiling the ANN"
   ]
  },
  {
   "cell_type": "code",
   "execution_count": 22,
   "metadata": {
    "colab": {},
    "colab_type": "code",
    "id": "pesgbWlCAtB4"
   },
   "outputs": [],
   "source": [
    "ann.compile(optimizer = 'adam', loss = 'mean_squared_error')"
   ]
  },
  {
   "cell_type": "markdown",
   "metadata": {
    "colab_type": "text",
    "id": "YjVuiybYOo7r"
   },
   "source": [
    "### Training the ANN model on the Training set"
   ]
  },
  {
   "cell_type": "code",
   "execution_count": 23,
   "metadata": {
    "colab": {
     "base_uri": "https://localhost:8080/",
     "height": 1000
    },
    "colab_type": "code",
    "id": "c_vV-tiiA5zn",
    "outputId": "4a2b6ee6-ed75-4698-9069-b250e613803f"
   },
   "outputs": [
    {
     "name": "stdout",
     "output_type": "stream",
     "text": [
      "Epoch 1/100\n",
      "240/240 [==============================] - 1s 852us/step - loss: 139520.8590\n",
      "Epoch 2/100\n",
      "240/240 [==============================] - 0s 903us/step - loss: 609.4095\n",
      "Epoch 3/100\n",
      "240/240 [==============================] - 0s 870us/step - loss: 245.2900\n",
      "Epoch 4/100\n",
      "240/240 [==============================] - 0s 864us/step - loss: 234.0482\n",
      "Epoch 5/100\n",
      "240/240 [==============================] - 0s 854us/step - loss: 215.3565\n",
      "Epoch 6/100\n",
      "240/240 [==============================] - 0s 870us/step - loss: 194.7937\n",
      "Epoch 7/100\n",
      "240/240 [==============================] - 0s 970us/step - loss: 171.8410\n",
      "Epoch 8/100\n",
      "240/240 [==============================] - ETA: 0s - loss: 144.005 - 0s 1ms/step - loss: 142.8160\n",
      "Epoch 9/100\n",
      "240/240 [==============================] - 0s 937us/step - loss: 109.4469\n",
      "Epoch 10/100\n",
      "240/240 [==============================] - 0s 970us/step - loss: 77.4862\n",
      "Epoch 11/100\n",
      "240/240 [==============================] - 0s 1ms/step - loss: 54.1838\n",
      "Epoch 12/100\n",
      "240/240 [==============================] - 0s 1ms/step - loss: 39.9515\n",
      "Epoch 13/100\n",
      "240/240 [==============================] - 0s 970us/step - loss: 34.2516\n",
      "Epoch 14/100\n",
      "240/240 [==============================] - 0s 914us/step - loss: 31.1625\n",
      "Epoch 15/100\n",
      "240/240 [==============================] - 0s 906us/step - loss: 29.7453\n",
      "Epoch 16/100\n",
      "240/240 [==============================] - 0s 870us/step - loss: 29.1163\n",
      "Epoch 17/100\n",
      "240/240 [==============================] - 0s 834us/step - loss: 29.4522\n",
      "Epoch 18/100\n",
      "240/240 [==============================] - 0s 870us/step - loss: 28.7467\n",
      "Epoch 19/100\n",
      "240/240 [==============================] - 0s 870us/step - loss: 29.1265\n",
      "Epoch 20/100\n",
      "240/240 [==============================] - 0s 853us/step - loss: 28.8487\n",
      "Epoch 21/100\n",
      "240/240 [==============================] - 0s 870us/step - loss: 28.9708\n",
      "Epoch 22/100\n",
      "240/240 [==============================] - 0s 903us/step - loss: 29.2539\n",
      "Epoch 23/100\n",
      "240/240 [==============================] - 0s 870us/step - loss: 28.9477\n",
      "Epoch 24/100\n",
      "240/240 [==============================] - 0s 836us/step - loss: 29.8880\n",
      "Epoch 25/100\n",
      "240/240 [==============================] - 0s 850us/step - loss: 27.5213\n",
      "Epoch 26/100\n",
      "240/240 [==============================] - 0s 842us/step - loss: 28.4962\n",
      "Epoch 27/100\n",
      "240/240 [==============================] - 0s 845us/step - loss: 27.5612\n",
      "Epoch 28/100\n",
      "240/240 [==============================] - 0s 875us/step - loss: 29.1173\n",
      "Epoch 29/100\n",
      "240/240 [==============================] - 0s 870us/step - loss: 27.8884\n",
      "Epoch 30/100\n",
      "240/240 [==============================] - 0s 873us/step - loss: 27.6123\n",
      "Epoch 31/100\n",
      "240/240 [==============================] - 0s 888us/step - loss: 28.3307\n",
      "Epoch 32/100\n",
      "240/240 [==============================] - 0s 870us/step - loss: 28.1477\n",
      "Epoch 33/100\n",
      "240/240 [==============================] - 0s 847us/step - loss: 26.7922\n",
      "Epoch 34/100\n",
      "240/240 [==============================] - 0s 842us/step - loss: 27.9524\n",
      "Epoch 35/100\n",
      "240/240 [==============================] - 0s 878us/step - loss: 28.0030\n",
      "Epoch 36/100\n",
      "240/240 [==============================] - 0s 855us/step - loss: 27.1733\n",
      "Epoch 37/100\n",
      "240/240 [==============================] - 0s 891us/step - loss: 26.9198\n",
      "Epoch 38/100\n",
      "240/240 [==============================] - 0s 883us/step - loss: 27.9987\n",
      "Epoch 39/100\n",
      "240/240 [==============================] - 0s 870us/step - loss: 28.1571\n",
      "Epoch 40/100\n",
      "240/240 [==============================] - 0s 853us/step - loss: 26.5961\n",
      "Epoch 41/100\n",
      "240/240 [==============================] - 0s 882us/step - loss: 28.0307\n",
      "Epoch 42/100\n",
      "240/240 [==============================] - 0s 855us/step - loss: 28.3394\n",
      "Epoch 43/100\n",
      "240/240 [==============================] - 0s 884us/step - loss: 27.2719\n",
      "Epoch 44/100\n",
      "240/240 [==============================] - 0s 1ms/step - loss: 28.8519\n",
      "Epoch 45/100\n",
      "240/240 [==============================] - 0s 884us/step - loss: 27.2299\n",
      "Epoch 46/100\n",
      "240/240 [==============================] - 0s 902us/step - loss: 28.4851\n",
      "Epoch 47/100\n",
      "240/240 [==============================] - 0s 1ms/step - loss: 27.3539\n",
      "Epoch 48/100\n",
      "240/240 [==============================] - 0s 937us/step - loss: 27.5164\n",
      "Epoch 49/100\n",
      "240/240 [==============================] - 0s 970us/step - loss: 27.6500\n",
      "Epoch 50/100\n",
      "240/240 [==============================] - 0s 963us/step - loss: 28.4760\n",
      "Epoch 51/100\n",
      "240/240 [==============================] - 0s 936us/step - loss: 29.0255\n",
      "Epoch 52/100\n",
      "240/240 [==============================] - 0s 904us/step - loss: 27.1003\n",
      "Epoch 53/100\n",
      "240/240 [==============================] - 0s 866us/step - loss: 28.1063\n",
      "Epoch 54/100\n",
      "240/240 [==============================] - 0s 834us/step - loss: 26.4446\n",
      "Epoch 55/100\n",
      "240/240 [==============================] - 0s 968us/step - loss: 28.2768\n",
      "Epoch 56/100\n",
      "240/240 [==============================] - 0s 994us/step - loss: 27.7112\n",
      "Epoch 57/100\n",
      "240/240 [==============================] - 0s 966us/step - loss: 29.1196\n",
      "Epoch 58/100\n",
      "240/240 [==============================] - 0s 930us/step - loss: 27.7079\n",
      "Epoch 59/100\n",
      "240/240 [==============================] - 0s 986us/step - loss: 27.1274\n",
      "Epoch 60/100\n",
      "240/240 [==============================] - 0s 900us/step - loss: 27.1175\n",
      "Epoch 61/100\n",
      "240/240 [==============================] - 0s 905us/step - loss: 27.2406\n",
      "Epoch 62/100\n",
      "240/240 [==============================] - 0s 904us/step - loss: 27.7397\n",
      "Epoch 63/100\n",
      "240/240 [==============================] - 0s 877us/step - loss: 28.3416\n",
      "Epoch 64/100\n",
      "240/240 [==============================] - 0s 946us/step - loss: 25.8042\n",
      "Epoch 65/100\n",
      "240/240 [==============================] - 0s 977us/step - loss: 29.0500\n",
      "Epoch 66/100\n",
      "240/240 [==============================] - 0s 936us/step - loss: 26.4178\n",
      "Epoch 67/100\n",
      "240/240 [==============================] - 0s 870us/step - loss: 27.6231\n",
      "Epoch 68/100\n",
      "240/240 [==============================] - 0s 903us/step - loss: 27.2933\n",
      "Epoch 69/100\n",
      "240/240 [==============================] - 0s 1ms/step - loss: 26.6027\n",
      "Epoch 70/100\n",
      "240/240 [==============================] - 0s 970us/step - loss: 27.1799\n",
      "Epoch 71/100\n",
      "240/240 [==============================] - 0s 876us/step - loss: 26.3517\n",
      "Epoch 72/100\n",
      "240/240 [==============================] - 0s 852us/step - loss: 26.8899\n",
      "Epoch 73/100\n",
      "240/240 [==============================] - 0s 968us/step - loss: 27.3657\n",
      "Epoch 74/100\n",
      "240/240 [==============================] - 0s 970us/step - loss: 27.5732\n",
      "Epoch 75/100\n",
      "240/240 [==============================] - 0s 943us/step - loss: 26.4321\n",
      "Epoch 76/100\n",
      "240/240 [==============================] - 0s 930us/step - loss: 26.6225\n",
      "Epoch 77/100\n",
      "240/240 [==============================] - 0s 937us/step - loss: 26.6337\n",
      "Epoch 78/100\n",
      "240/240 [==============================] - 0s 890us/step - loss: 27.0109\n",
      "Epoch 79/100\n",
      "240/240 [==============================] - 0s 903us/step - loss: 27.3345\n",
      "Epoch 80/100\n",
      "240/240 [==============================] - 0s 846us/step - loss: 28.1770\n",
      "Epoch 81/100\n",
      "240/240 [==============================] - 0s 907us/step - loss: 29.2664\n",
      "Epoch 82/100\n",
      "240/240 [==============================] - 0s 970us/step - loss: 29.4050\n",
      "Epoch 83/100\n",
      "240/240 [==============================] - 0s 817us/step - loss: 27.9149\n",
      "Epoch 84/100\n",
      "240/240 [==============================] - 0s 956us/step - loss: 26.7292\n",
      "Epoch 85/100\n",
      "240/240 [==============================] - 0s 883us/step - loss: 26.6171\n",
      "Epoch 86/100\n",
      "240/240 [==============================] - 0s 1ms/step - loss: 27.7009\n",
      "Epoch 87/100\n",
      "240/240 [==============================] - 0s 909us/step - loss: 27.9722\n",
      "Epoch 88/100\n",
      "240/240 [==============================] - 0s 971us/step - loss: 27.0753\n",
      "Epoch 89/100\n",
      "240/240 [==============================] - 0s 847us/step - loss: 27.4471\n",
      "Epoch 90/100\n",
      "240/240 [==============================] - 0s 859us/step - loss: 27.9047\n",
      "Epoch 91/100\n",
      "240/240 [==============================] - 0s 883us/step - loss: 27.0998\n",
      "Epoch 92/100\n",
      "240/240 [==============================] - 0s 897us/step - loss: 27.2138\n",
      "Epoch 93/100\n",
      "240/240 [==============================] - 0s 938us/step - loss: 26.5301\n",
      "Epoch 94/100\n",
      "240/240 [==============================] - 0s 903us/step - loss: 27.4982\n",
      "Epoch 95/100\n",
      "240/240 [==============================] - 0s 876us/step - loss: 27.2838\n",
      "Epoch 96/100\n"
     ]
    },
    {
     "name": "stdout",
     "output_type": "stream",
     "text": [
      "240/240 [==============================] - 0s 866us/step - loss: 27.6747\n",
      "Epoch 97/100\n",
      "240/240 [==============================] - 0s 888us/step - loss: 27.6132\n",
      "Epoch 98/100\n",
      "240/240 [==============================] - 0s 883us/step - loss: 26.8622\n",
      "Epoch 99/100\n",
      "240/240 [==============================] - 0s 803us/step - loss: 26.9538\n",
      "Epoch 100/100\n",
      "240/240 [==============================] - 0s 844us/step - loss: 27.3634\n"
     ]
    },
    {
     "data": {
      "text/plain": [
       "<tensorflow.python.keras.callbacks.History at 0x27b0ed05508>"
      ]
     },
     "execution_count": 23,
     "metadata": {},
     "output_type": "execute_result"
    }
   ],
   "source": [
    "ann.fit(X_train, y_train, batch_size = 32, epochs = 100)"
   ]
  },
  {
   "cell_type": "markdown",
   "metadata": {
    "colab_type": "text",
    "id": "0H0zKKNEBLD5"
   },
   "source": [
    "### Predicting the results of the Test set"
   ]
  },
  {
   "cell_type": "code",
   "execution_count": 24,
   "metadata": {
    "colab": {
     "base_uri": "https://localhost:8080/",
     "height": 134
    },
    "colab_type": "code",
    "id": "IA0yApEmBG1X",
    "outputId": "cb981e1f-9204-4a2a-fece-9d66a6919189"
   },
   "outputs": [
    {
     "name": "stdout",
     "output_type": "stream",
     "text": [
      "[[430.31 431.23]\n",
      " [461.4  460.01]\n",
      " [464.94 461.14]\n",
      " ...\n",
      " [472.1  473.26]\n",
      " [438.98 438.  ]\n",
      " [458.15 463.28]]\n"
     ]
    }
   ],
   "source": [
    "y_pred = ann.predict(X_test)\n",
    "np.set_printoptions(precision=2)\n",
    "print(np.concatenate((y_pred.reshape(len(y_pred),1), y_test.reshape(len(y_test),1)),1))"
   ]
  },
  {
   "cell_type": "code",
   "execution_count": 26,
   "metadata": {},
   "outputs": [],
   "source": [
    "x=np.concatenate((y_pred.reshape(len(y_pred),1), y_test.reshape(len(y_test),1)),1)"
   ]
  },
  {
   "cell_type": "code",
   "execution_count": 37,
   "metadata": {},
   "outputs": [],
   "source": [
    "total=0\n",
    "n=1914\n",
    "for i in range(n):\n",
    "    total+=abs(x[0,0]-x[0,1])\n",
    "error=total/n"
   ]
  },
  {
   "cell_type": "code",
   "execution_count": 38,
   "metadata": {},
   "outputs": [
    {
     "data": {
      "text/plain": [
       "0.9174694824218932"
      ]
     },
     "execution_count": 38,
     "metadata": {},
     "output_type": "execute_result"
    }
   ],
   "source": [
    "error"
   ]
  },
  {
   "cell_type": "code",
   "execution_count": 39,
   "metadata": {},
   "outputs": [],
   "source": [
    "y=np.concatenate((y_pred.reshape(len(y_pred),1), y_test.reshape(len(y_test),1)),axis=1)"
   ]
  },
  {
   "cell_type": "code",
   "execution_count": 41,
   "metadata": {},
   "outputs": [
    {
     "name": "stdout",
     "output_type": "stream",
     "text": [
      "[[430.31 431.23]\n",
      " [461.4  460.01]\n",
      " [464.94 461.14]\n",
      " ...\n",
      " [472.1  473.26]\n",
      " [438.98 438.  ]\n",
      " [458.15 463.28]]\n"
     ]
    }
   ],
   "source": [
    "print(y)"
   ]
  },
  {
   "cell_type": "code",
   "execution_count": null,
   "metadata": {},
   "outputs": [],
   "source": []
  }
 ],
 "metadata": {
  "colab": {
   "collapsed_sections": [],
   "name": "Artificial Neural Network",
   "provenance": [],
   "toc_visible": true
  },
  "kernelspec": {
   "display_name": "Python 3",
   "language": "python",
   "name": "python3"
  },
  "language_info": {
   "codemirror_mode": {
    "name": "ipython",
    "version": 3
   },
   "file_extension": ".py",
   "mimetype": "text/x-python",
   "name": "python",
   "nbconvert_exporter": "python",
   "pygments_lexer": "ipython3",
   "version": "3.7.5"
  }
 },
 "nbformat": 4,
 "nbformat_minor": 1
}
